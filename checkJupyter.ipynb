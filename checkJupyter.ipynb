{
 "cells": [
  {
   "cell_type": "markdown",
   "id": "8889f4ad",
   "metadata": {},
   "source": [
    "# Check Python version in Jupyter notebook\n",
    "Check that we are using the right kernelspec and can load some modules installed with pip."
   ]
  },
  {
   "cell_type": "markdown",
   "id": "1f87c326",
   "metadata": {},
   "source": [
    "To check the available kernelspec:\n",
    "\n",
    "    jupyter kernelspec list\n",
    "   \n",
    "To install the latest jupyter and notebook:\n",
    "\n",
    "    pip3 install jupyter notebook\n",
    "    \n",
    "On Homebrew, had to manually install the kernelspec for Python 3.10 (not MacOS' python version)\n",
    "\n",
    "     jupyter-kernelspec install /usr/local/share/jupyter/kernels/python3"
   ]
  },
  {
   "cell_type": "code",
   "execution_count": 1,
   "id": "24a5c77b",
   "metadata": {},
   "outputs": [
    {
     "name": "stdout",
     "output_type": "stream",
     "text": [
      "3.10.8 (main, Oct 13 2022, 10:17:43) [Clang 14.0.0 (clang-1400.0.29.102)]\n"
     ]
    }
   ],
   "source": [
    "import sys\n",
    "print(sys.version)"
   ]
  },
  {
   "cell_type": "code",
   "execution_count": 3,
   "id": "12ff86a8",
   "metadata": {},
   "outputs": [
    {
     "name": "stdout",
     "output_type": "stream",
     "text": [
      "Success!\n"
     ]
    }
   ],
   "source": [
    "try:\n",
    "    import tqdm, fluids\n",
    "    print(\"Success!\")\n",
    "except ImportError as e:\n",
    "    print(\"Something went wrong :-(\")\n",
    "    print(e)"
   ]
  }
 ],
 "metadata": {
  "kernelspec": {
   "display_name": "Python 3 (ipykernel)",
   "language": "python",
   "name": "python3"
  },
  "language_info": {
   "codemirror_mode": {
    "name": "ipython",
    "version": 3
   },
   "file_extension": ".py",
   "mimetype": "text/x-python",
   "name": "python",
   "nbconvert_exporter": "python",
   "pygments_lexer": "ipython3",
   "version": "3.10.8"
  }
 },
 "nbformat": 4,
 "nbformat_minor": 5
}
