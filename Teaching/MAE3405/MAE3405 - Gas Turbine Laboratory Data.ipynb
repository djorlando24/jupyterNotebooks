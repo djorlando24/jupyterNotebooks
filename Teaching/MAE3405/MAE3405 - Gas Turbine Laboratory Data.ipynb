{
 "cells": [
  {
   "cell_type": "markdown",
   "metadata": {},
   "source": [
    "# MAE3405 - Gas Turbine Laboratory Data\n",
    "\n",
    "Dr. Daniel Duke<br>\n",
    "Laboratory for Turbulence Research in Aerospace & Combustion (LTRAC)<br>\n",
    "Department of Mechanical & Aerospace Engineering<br>\n",
    "Monash University, Australia"
   ]
  },
  {
   "cell_type": "markdown",
   "metadata": {},
   "source": [
    "<img src=\"files/cussons.jpg\">"
   ]
  },
  {
   "cell_type": "markdown",
   "metadata": {},
   "source": [
    "Click the button to generate a unique data file. Then click the link that appears to download the file."
   ]
  },
  {
   "cell_type": "code",
   "execution_count": 1,
   "metadata": {},
   "outputs": [
    {
     "name": "stderr",
     "output_type": "stream",
     "text": [
      "Widget Javascript not detected.  It may not be installed or enabled properly.\n"
     ]
    },
    {
     "data": {
      "application/vnd.jupyter.widget-view+json": {
       "model_id": "7b4cb76b8598450a9c10a7a78a6d3897"
      }
     },
     "metadata": {},
     "output_type": "display_data"
    }
   ],
   "source": [
    "# Warning to user - if you try and change anything here, it'll just get overwritten by my Github repository. \n",
    "# So don't try it! :-)\n",
    "\n",
    "import numpy as np\n",
    "from ipywidgets import widgets\n",
    "from IPython.display import display, HTML\n",
    "import base64, datetime\n",
    "import pandas as pd\n",
    "\n",
    "def create_download_link( df, title = \"Download Link\", filename = \"data.csv\"):\n",
    "    csv = df.to_csv()\n",
    "    b64 = base64.b64encode(csv.encode())\n",
    "    payload = b64.decode()\n",
    "    html = '<a download=\"{filename}\" href=\"data:text/csv;base64,{payload}\" target=\"_blank\">{title}</a>'\n",
    "    html = html.format(payload=payload,title=title,filename=filename)\n",
    "    return HTML(html)\n",
    "\n",
    "NGG = [1000, 1100, 1200, 1305, 1420, 1505]; NGG_err = 10\n",
    "Ta  = [21, 22, 23, 24, 25, 26.5]; Ta_err = 0.2\n",
    "Pa  = [1010,1010,1010,1010,1010,1010]; Pa_err = 1\n",
    "P1  = [1010,1010,1010,1010,1010,1010]; P1_err = 1\n",
    "T1  = [20, 26, 28, 30, 33, 35]; T1_err = 1\n",
    "AFl = [43, 54, 65, 77.5, 95, 108]; AFl_err = 2\n",
    "T2  = [55, 66, 76, 85, 97, 109]; T2_err = 2\n",
    "FFl = [1.20, 1.25, 1.43, 1.62, 1.80, 2.00]; FFl_err = 0.03\n",
    "Tg  = [21, 26, 28, 30, 32, 34]; Tg_err = 1\n",
    "P2P3= [1.1, 1.2, 1.4, 1.8, 2.2, 2.6]; P2P3_err = 0.1\n",
    "P3  = [0.29, 0.34, 0.43, 0.50, 0.58, 0.68]; P3_err = 0.02\n",
    "T3  = [618, 620, 623, 640, 660, 682]; T3_err = 2\n",
    "P4  = [1.1, 1.05, 1.05, 1.075, 1.1, 1.1]; P4_err = 0.025\n",
    "T4  = [500, 500, 500, 500, 500, 520]; T4_err = 10\n",
    "P9  = [1, 1, 1, 1, 1, 1]; P9_err = 0.05\n",
    "T9  = [460, 460, 460, 460, 470, 480]; T9_err = 10\n",
    "NFl = [36, 46, 58, 70, 86, 100]; NFl_err = 3\n",
    "\n",
    "allVars = [NGG, Ta, Pa, P1, T1, AFl, T2, FFl, Tg, P2P3, P3, T3, P4, T4, P9, T9, NFl]\n",
    "allErrs = [NGG_err, Ta_err, Pa_err, P1_err, T1_err, AFl_err, T2_err, FFl_err, Tg_err, P2P3_err, P3_err, T3_err,\\\n",
    "           P4_err, T4_err, P9_err, T9_err, NFl_err]\n",
    "sigFigs = [0,1,0,0,0,1,0,2,0,1,2,0,2,-1,1,0,0]\n",
    "\n",
    "varNames = ['NGG (rps)', 'T_room (degrees C)', 'P_room (millibar)', 'P_1 (millibar)', 'T_1 (degrees C)',\\\n",
    "            'Air flow (mm H2O)','T_2 (degrees C)', 'Fuel flow (g/s)', 'T_g (degrees C)', 'P_2-P_3 (cm Hg)',\\\n",
    "            'P_3 (bar gauge)','T_3 (degrees C)', 'P_4 (bar)', 'T_4 (degrees C)', 'P_9 (bar)', 'T_9 (degrees C)',\\\n",
    "            'Nozzle flow (millibar)']\n",
    "\n",
    "def generate_data(but):\n",
    "\n",
    "    data = []\n",
    "    columns = []\n",
    "    timestamp = datetime.datetime.now().strftime(\"%d-%m-%y-%Hh%Mm%Ss\")\n",
    "\n",
    "    for var, err, sigfig, varname in zip(allVars, allErrs, sigFigs, varNames):\n",
    "        data.append(np.round(np.random.normal(var, err*2.5),sigfig))\n",
    "        columns.append(varname)\n",
    "\n",
    "    data = np.array(data).transpose()\n",
    "\n",
    "    df = pd.DataFrame(data = data, columns=columns)\n",
    "    display( create_download_link(df, filename = \"MAE3405_gas_turbine_data_%s.csv\" % timestamp,\\\n",
    "                                 title = \"Click here to download your CSV file (%s)\" % timestamp) );\n",
    "    return\n",
    "    \n",
    "    \n",
    "button  = widgets.Button(description=\"Click to get file\")\n",
    "button.on_click(generate_data)\n",
    "display(button);"
   ]
  },
  {
   "cell_type": "markdown",
   "metadata": {},
   "source": [
    "The data will download in a comma seperated values (CSV) ASCII file which you can open using Microsoft Excel.\n",
    "Pay careful attention to the units of measurement, as they are often different to each other. In particular the \"air flow\" rates are given in terms of pressure difference and you will need to convert this to a usable value of flow rate.\n",
    "\n",
    "Please watch all the tutorial videos linked on Moodle and read the worksheet before attempting to complete your report."
   ]
  }
 ],
 "metadata": {
  "kernelspec": {
   "display_name": "Python 3",
   "language": "python",
   "name": "python3"
  },
  "language_info": {
   "codemirror_mode": {
    "name": "ipython",
    "version": 3
   },
   "file_extension": ".py",
   "mimetype": "text/x-python",
   "name": "python",
   "nbconvert_exporter": "python",
   "pygments_lexer": "ipython3",
   "version": "3.6.9"
  }
 },
 "nbformat": 4,
 "nbformat_minor": 4
}
