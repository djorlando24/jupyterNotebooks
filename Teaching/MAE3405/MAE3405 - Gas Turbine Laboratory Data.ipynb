{
 "cells": [
  {
   "cell_type": "markdown",
   "metadata": {},
   "source": [
    "# MAE3405 - Gas Turbine Laboratory Data\n",
    "\n",
    "Dr. Daniel Duke<br>\n",
    "Laboratory for Turbulence Research in Aerospace & Combustion (LTRAC)<br>\n",
    "Department of Mechanical & Aerospace Engineering<br>\n",
    "Monash University, Australia"
   ]
  },
  {
   "cell_type": "markdown",
   "metadata": {},
   "source": [
    "<img src=\"files/cussons.jpg\">"
   ]
  },
  {
   "cell_type": "markdown",
   "metadata": {},
   "source": [
    "Click here to get your data:"
   ]
  },
  {
   "cell_type": "code",
   "execution_count": 16,
   "metadata": {},
   "outputs": [
    {
     "data": {
      "text/html": [
       "<a download=\"MAE3405_gas_turbine_data_04-08-20-161746.csv\" href=\"data:text/csv;base64,LE5HRyAocnBzKSxUX3Jvb20gKGRlZ3JlZXMgQyksUF9yb29tIChtaWxsaWJhciksVF8xIChkZWdyZWVzIEMpLEFpciBmbG93IChtbSBIMk8pLFRfMiAoZGVncmVlcyBDKSxGdWVsIGZsb3cgKGcvcyksVF9nIChkZWdyZWVzIEMpLFBfMi1QXzMgKGNtIEhnKSxQXzMgKGJhciBnYXVnZSksVF8zIChLZWx2aW4pLFBfNCAoYmFyKSxUXzQgKGRlZ3JlZXMgQyksUF85IChiYXIpLFRfOSAoZGVncmVlcyBDKSxOb3p6bGUgZmxvdyAobWlsbGliYXIpCjAsOTc0LjAsMjEuMywxMDM0LjAsMTAzMS4wLDIyLjAsNDQuOSw1OC4wLDEuMTgsMjAuMCwwLjksMC4zLDYxNC4wLDEuMTQsNTA0LjAsMS4wLDQ0OC4wCjEsMTEzMC4wLDIyLjIsOTc5LjAsMTAxOS4wLDI3LjAsNTEuMyw3Mi4wLDEuNDUsMjQuMCwxLjIsMC4zNSw2MjYuMCwxLjA4LDU0NC4wLDEuMCw0MjYuMAoyLDEyMjAuMCwyMy4zLDEwNDMuMCwxMDMzLjAsMjkuMCw2Ni42LDc0LjAsMS4zLDM1LjAsMC44LDAuNCw2MjQuMCwxLjAzLDQ4MS4wLDEuMCw0MjkuMAozLDEzMDQuMCwyMy4wLDEwMTkuMCwxMDA0LjAsMjguMCw3NC43LDc3LjAsMS41MywyNC4wLDEuNiwwLjQ0LDYzOC4wLDEuMzIsMzQzLjAsMS4wLDQyOC4wCjQsMTQ0MS4wLDI1LjIsMTAyMi4wLDk5NC4wLDMyLjAsOTYuNyw5Ni4wLDEuNjcsMjkuMCwyLjEsMC42OCw2NjQuMCwxLjA4LDUyNy4wLDEuMCw1NjIuMAo1LDE1MzYuMCwyNi43LDk5MC4wLDk5OS4wLDM3LjAsMTA5LjYsMTEyLjAsMS45NSwzMS4wLDIuOCwwLjY1LDY4NC4wLDEuMSw0NjAuMCwxLjAsNDIzLjAK\" target=\"_blank\">Click link to download CSV file</a>"
      ],
      "text/plain": [
       "<IPython.core.display.HTML object>"
      ]
     },
     "execution_count": 16,
     "metadata": {},
     "output_type": "execute_result"
    }
   ],
   "source": [
    "import numpy as np\n",
    "from ipywidgets import widgets\n",
    "from IPython.display import display, HTML\n",
    "import base64, datetime\n",
    "import pandas as pd\n",
    "\n",
    "def create_download_link( df, title = \"Click link to download CSV file\", filename = \"data.csv\"):\n",
    "    csv = df.to_csv()\n",
    "    b64 = base64.b64encode(csv.encode())\n",
    "    payload = b64.decode()\n",
    "    html = '<a download=\"{filename}\" href=\"data:text/csv;base64,{payload}\" target=\"_blank\">{title}</a>'\n",
    "    html = html.format(payload=payload,title=title,filename=filename)\n",
    "    return HTML(html)\n",
    "\n",
    "NGG = [1000, 1100, 1200, 1305, 1420, 1505]; NGG_err = 10\n",
    "Ta  = [21, 22, 23, 24, 25, 26.5]; Ta_err = 0.2\n",
    "Pa  = [1010,1010,1010,1010,1010,1010]; Pa_err = 6\n",
    "P1  = [1010,1010,1010,1010,1010,1010]; P1_err = 6\n",
    "T1  = [20, 26, 28, 30, 33, 35]; T1_err = 1\n",
    "AFl = [43, 54, 65, 77.5, 95, 108]; AFl_err = 2\n",
    "T2  = [55, 66, 76, 85, 97, 109]; T2_err = 2\n",
    "FFl = [1.20, 1.25, 1.43, 1.62, 1.80, 2.00]; FFl_err = 0.05\n",
    "Tg  = [21, 26, 28, 30, 32, 34]; Tg_err = 2\n",
    "P2P3= [1.1, 1.2, 1.4, 1.8, 2.2, 2.6]; P2P3_err = 0.1\n",
    "P3  = [0.29, 0.34, 0.43, 0.50, 0.58, 0.68]; P3_err = 0.02\n",
    "T3  = [618, 620, 623, 640, 660, 682]; T3_err = 2\n",
    "P4  = [1.1, 1.05, 1.05, 1.075, 1.1, 1.1]; P4_err = 0.05\n",
    "T4  = [500, 500, 500, 500, 500, 520]; T4_err = 20\n",
    "P9  = [1, 1, 1, 1, 1, 1]; P9_err = 0.1\n",
    "T9  = [460, 460, 460, 460, 470, 480]; T9_err = 20\n",
    "NFl = [36, 46, 58, 70, 86, 100]; NFl_err = 5\n",
    "\n",
    "allVars = [NGG, Ta, Pa, P1, T1, AFl, T2, FFl, Tg, P2P3, P3, T3, P4, T4, P9, T9, NFl]\n",
    "allErrs = [NGG_err, Ta_err, Pa_err, P1_err, T1_err, AFl_err, T2_err, FFl_err, Tg_err, P2P3_err, P3_err, T3_err,\\\n",
    "           P4_err, T4_err, P9_err, T9_err, NFl_err]\n",
    "sigFigs = [0,1,0,0,0,1,0,2,0,1,2,0,2,0,0,0,0]\n",
    "\n",
    "varNames = ['NGG (rps)', 'T_room (degrees C)', 'P_room (millibar)', 'T_1 (degrees C)', 'Air flow (mm H2O)',\\\n",
    "            'T_2 (degrees C)', 'Fuel flow (g/s)', 'T_g (degrees C)', 'P_2-P_3 (cm Hg)', 'P_3 (bar gauge)',\\\n",
    "            'T_3 (Kelvin)', 'P_4 (bar)', 'T_4 (degrees C)', 'P_9 (bar)', 'T_9 (degrees C)', 'Nozzle flow (millibar)']\n",
    "\n",
    "data = []\n",
    "columns = []\n",
    "timestamp = datetime.datetime.now().strftime(\"%d-%m-%y-%H%M%S\")\n",
    "\n",
    "for var, err, sigfig, varname in zip(allVars, allErrs, sigFigs, varNames):\n",
    "    data.append(np.round(np.random.normal(var, err*2.5),sigfig))\n",
    "    columns.append(varname)\n",
    "    \n",
    "data = np.array(data).transpose()\n",
    "    \n",
    "df = pd.DataFrame(data = data, columns=columns)\n",
    "create_download_link(df, filename = \"MAE3405_gas_turbine_data_%s.csv\" % timestamp)"
   ]
  },
  {
   "cell_type": "markdown",
   "metadata": {},
   "source": [
    "The data will download in a comma seperated values (CSV) ASCII file which you can open using Microsoft Excel.\n",
    "Pay careful attention to the units of measurement, as they are often different to each other. In particular the \"air flow\" rates are given in terms of pressure difference and you will need to convert this to a usable value of flow rate.\n",
    "\n",
    "Please watch all the tutorial videos linked on Moodle and read the worksheet before attempting to complete your report."
   ]
  }
 ],
 "metadata": {
  "kernelspec": {
   "display_name": "Python 3",
   "language": "python",
   "name": "python3"
  },
  "language_info": {
   "codemirror_mode": {
    "name": "ipython",
    "version": 3
   },
   "file_extension": ".py",
   "mimetype": "text/x-python",
   "name": "python",
   "nbconvert_exporter": "python",
   "pygments_lexer": "ipython3",
   "version": "3.8.5"
  }
 },
 "nbformat": 4,
 "nbformat_minor": 4
}
