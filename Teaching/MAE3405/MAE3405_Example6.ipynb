{
 "cells": [
  {
   "cell_type": "markdown",
   "metadata": {},
   "source": [
    "# MAE3405: Effect of Altitude on the Fuel-Air Otto Cycle\n",
    "\n",
    "Dr. Daniel Duke<br>\n",
    "Laboratory for Turbulence Research in Aerospace & Combustion (LTRAC)<br>\n",
    "Department of Mechanical & Aerospace Engineering<br>\n",
    "Monash University, Australia"
   ]
  },
  {
   "cell_type": "markdown",
   "metadata": {},
   "source": [
    "Net work for the fuel-air Otto cycle is given by:\n",
    "$$\n",
    "w_n = w_{out} - w_{in} = c_{v,p} ( T_3 - T_4 ) - c_{v,r} ( T_2 - T_1 ) \\; [\\mathrm{kJ/kg}]\n",
    "$$\n",
    "\n",
    "The volumetric power is given by\n",
    "$$\n",
    "w_v = w_n \\rho_1 \\; [\\mathrm{kJ/m}^3]\n",
    "$$"
   ]
  },
  {
   "cell_type": "code",
   "execution_count": 11,
   "metadata": {},
   "outputs": [
    {
     "name": "stdout",
     "output_type": "stream",
     "text": [
      "Constants are set as follows:\n",
      "A/F ratio \t = 15.1\n",
      "fuel LHV \t = 44.5 MJ/kg_f\n",
      "C_v \t \t = 0.839 kJ/kg.K (reactants), 1.143 kJ/kg.K (products)\n",
      "gamma \t \t = 1.327 (reactants), 1.259 (products)\n",
      "Compression ratio= 8.5\n"
     ]
    }
   ],
   "source": [
    "# define constants\n",
    "AF = 15.1\n",
    "LHV = 44.5 # MJ/kg_f\n",
    "Cvp = 1.143 # kJ/kg.K\n",
    "Cvr = 0.8392 # kJ/kg.K\n",
    "gamma_p = 1.259\n",
    "gamma_r = 1.327\n",
    "r_v = 8.5\n",
    "\n",
    "print(\"Constants are set as follows:\")\n",
    "print(\"A/F ratio \\t = %.1f\" % AF)\n",
    "print(\"fuel LHV \\t = %.1f MJ/kg_f\" % LHV)\n",
    "print(\"C_v \\t \\t = %.3f kJ/kg.K (reactants), %.3f kJ/kg.K (products)\" % (Cvr,Cvp))\n",
    "print(\"gamma \\t \\t = %.3f (reactants), %.3f (products)\" % (gamma_r,gamma_p))\n",
    "print(\"Compression ratio= %.1f\" % r_v)"
   ]
  },
  {
   "cell_type": "code",
   "execution_count": 5,
   "metadata": {},
   "outputs": [
    {
     "name": "stdout",
     "output_type": "stream",
     "text": [
      "Using 1976 International Standard Atmosphere with altitude range 0 to 15000 m\n"
     ]
    }
   ],
   "source": [
    "# define altitudes and conditions\n",
    "from  fluids.atmosphere import ATMOSPHERE_1976\n",
    "import numpy as np\n",
    "z = np.arange(0,15001.,1.)\n",
    "p1 = np.zeros_like(z); v1 = np.zeros_like(z); T1 = np.zeros_like(z)\n",
    "for i in range(len(z)):\n",
    "    zi = ATMOSPHERE_1976(z[i])\n",
    "    p1[i] = zi.P/1e3 # kPa\n",
    "    v1[i] = 1./zi.rho\n",
    "    T1[i] = zi.T\n",
    "print(\"Using 1976 International Standard Atmosphere with altitude range %.0f to %.0f m\" % (z.min(),z.max()))"
   ]
  },
  {
   "cell_type": "code",
   "execution_count": 12,
   "metadata": {},
   "outputs": [
    {
     "name": "stdout",
     "output_type": "stream",
     "text": [
      "Using naturally aspirated fuel-air Otto cycle\n"
     ]
    }
   ],
   "source": [
    "# calculate fuel-air Otto cycle\n",
    "print(\"Using naturally aspirated fuel-air Otto cycle\")\n",
    "p2 = p1*(r_v**gamma_r)\n",
    "v2 = v1 / r_v\n",
    "T2 = p2*v2 / ( Cvr*(gamma_r - 1) )\n",
    "\n",
    "qh = LHV*1e3/(AF+1)\n",
    "T0 = 298.\n",
    "T3 = ((qh + Cvr*(T2 - T0))/Cvp) + T0\n",
    "v3 = v2\n",
    "p3 = ( Cvp*(gamma_p - 1) ) * T3 / (v3+1e-6)\n",
    "\n",
    "p4 = p3/(r_v**gamma_p)\n",
    "v4 = v1\n",
    "T4 = p4*v4 / ( Cvp*(gamma_p - 1) )\n",
    "\n",
    "wnet = Cvp*(T3-T4) - Cvr*(T2-T1)\n",
    "wvol = wnet / v1"
   ]
  },
  {
   "cell_type": "code",
   "execution_count": null,
   "metadata": {},
   "outputs": [],
   "source": [
    "import matplotlib.pyplot as plt\n",
    "%matplotlib notebook\n",
    "\n",
    "fig=plt.figure()\n",
    "ax=fig.add_subplot(111)\n",
    "plt.grid(alpha=.2)\n",
    "plt.xlabel('Altitude [km]')\n",
    "plt.ylabel('Pressure [kPa]')\n",
    "ax.plot(z,p1,label='$P_1$')\n",
    "ax.plot(z,p2,label='$P_2$')\n",
    "ax.plot(z,p3,label='$P_3$')\n",
    "ax.plot(z,p4,label='$P_4$')\n",
    "plt.legend()\n",
    "\n",
    "fig=plt.figure()\n",
    "ax=fig.add_subplot(111)\n",
    "plt.grid(alpha=.2)\n",
    "plt.xlabel('Altitude [km]')\n",
    "plt.ylabel('Net work')\n",
    "ax.plot(z,wnet,ls='--',c='k',label='Net work [kJ/kg]')\n",
    "ax.plot(z,wvol,ls='-',label='Net work [kJ/m$^3$]')\n",
    "plt.legend()\n",
    "plt.show();"
   ]
  }
 ],
 "metadata": {
  "kernelspec": {
   "display_name": "Python 3",
   "language": "python",
   "name": "python3"
  },
  "language_info": {
   "codemirror_mode": {
    "name": "ipython",
    "version": 3
   },
   "file_extension": ".py",
   "mimetype": "text/x-python",
   "name": "python",
   "nbconvert_exporter": "python",
   "pygments_lexer": "ipython3",
   "version": "3.6.9"
  }
 },
 "nbformat": 4,
 "nbformat_minor": 4
}
