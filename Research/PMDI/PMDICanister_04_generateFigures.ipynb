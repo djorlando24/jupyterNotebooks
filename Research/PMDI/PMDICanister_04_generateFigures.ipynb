{
 "cells": [
  {
   "cell_type": "markdown",
   "id": "9a9d3466",
   "metadata": {},
   "source": [
    "# APS PMDI canister fluorescence\n",
    "\n",
    "Post processing of X-ray canister fluorescence data with KI and BaSO4.\n",
    "Fourth step - Apply signal trapping corrections to different scans and produce usable graphs.\n",
    "\n",
    "Data collected by Daniel Duke, Lingzhe Rao & Alan Kastengren\n",
    "@ Advanced Photon Source, Argonne National Laboratory, Lemont, Illinois USA\n",
    "November, 2022.\n",
    "\n",
    "    \n",
    "    @author Daniel Duke <daniel.duke@monash.edu>\n",
    "    @copyright (c) 2022 LTRAC\n",
    "    @license GPL-3.0+\n",
    "    @version 0.0.1\n",
    "    @date 14/03/2023\n",
    "        __   ____________    ___    ______\n",
    "       / /  /_  ____ __  \\  /   |  / ____/\n",
    "      / /    / /   / /_/ / / /| | / /\n",
    "     / /___ / /   / _, _/ / ___ |/ /_________\n",
    "    /_____//_/   /_/ |__\\/_/  |_|\\__________/\n",
    "\n",
    "    Laboratory for Turbulence Research in Aerospace & Combustion (LTRAC)\n",
    "    Monash University, Australia\n",
    "\n",
    "    This program is free software: you can redistribute it and/or modify\n",
    "    it under the terms of the GNU General Public License as published by\n",
    "    the Free Software Foundation, either version 3 of the License, or\n",
    "    (at your option) any later version.\n",
    "\n",
    "    This program is distributed in the hope that it will be useful,\n",
    "    but WITHOUT ANY WARRANTY; without even the implied warranty of\n",
    "    MERCHANTABILITY or FITNESS FOR A PARTICULAR PURPOSE.  See the\n",
    "    GNU General Public License for more details.\n",
    "\n",
    "    You should have received a copy of the GNU General Public License\n",
    "    along with this program.  If not, see <https://www.gnu.org/licenses/>."
   ]
  },
  {
   "cell_type": "code",
   "execution_count": 1,
   "id": "909782bb",
   "metadata": {},
   "outputs": [],
   "source": [
    "import h5py\n",
    "import numpy as np\n",
    "import scipy.optimize, scipy.integrate, scipy.interpolate\n",
    "import matplotlib.pyplot as plt\n",
    "%matplotlib notebook\n",
    "\n",
    "# Get my functions from the last two notebooks, which are saved into a Python module.\n",
    "from dd_xrf_functions import *\n",
    "from dd_xrf_sigtrap import *"
   ]
  },
  {
   "cell_type": "code",
   "execution_count": null,
   "id": "c463b3c2",
   "metadata": {},
   "outputs": [],
   "source": []
  }
 ],
 "metadata": {
  "kernelspec": {
   "display_name": "Python 3 (ipykernel)",
   "language": "python",
   "name": "python3"
  },
  "language_info": {
   "codemirror_mode": {
    "name": "ipython",
    "version": 3
   },
   "file_extension": ".py",
   "mimetype": "text/x-python",
   "name": "python",
   "nbconvert_exporter": "python",
   "pygments_lexer": "ipython3",
   "version": "3.10.10"
  }
 },
 "nbformat": 4,
 "nbformat_minor": 5
}
