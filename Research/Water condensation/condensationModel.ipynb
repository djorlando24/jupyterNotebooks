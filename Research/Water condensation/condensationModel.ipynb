{
 "cells": [
  {
   "cell_type": "markdown",
   "metadata": {},
   "source": [
    "# Condensation of water from humid air around a droplet\n",
    "\n",
    "Description\n",
    "\n",
    "    @author Daniel Duke <daniel.duke@monash.edu>\n",
    "    @copyright (c) 2020 LTRAC\n",
    "    @license GPL-3.0+\n",
    "    @version 0.0.1\n",
    "    @date 06/11/2020\n",
    "        __   ____________    ___    ______\n",
    "       / /  /_  ____ __  \\  /   |  / ____/\n",
    "      / /    / /   / /_/ / / /| | / /\n",
    "     / /___ / /   / _, _/ / ___ |/ /_________\n",
    "    /_____//_/   /_/ |__\\/_/  |_|\\__________/\n",
    "\n",
    "    Laboratory for Turbulence Research in Aerospace & Combustion (LTRAC)\n",
    "    Monash University, Australia\n",
    "\n"
   ]
  },
  {
   "cell_type": "code",
   "execution_count": 1,
   "metadata": {},
   "outputs": [],
   "source": [
    "import numpy as np\n",
    "import matplotlib.pyplot as plt\n",
    "%matplotlib notebook"
   ]
  },
  {
   "cell_type": "code",
   "execution_count": 15,
   "metadata": {},
   "outputs": [],
   "source": [
    "# Constants\n",
    "k_air = lambda T: 7.940e-5*T + 2.340e-3 # W/m-K in air [Incropera et al]\n",
    "Cpa = lambda T: 2.667e-6*(T**3) - 1.8e-3*(T**2) + 4.233e-1*T + 9.72e2 # kJ/kg-K for air [Incropera et al]\n",
    "rho_a = lambda T: 3.5783e2 * T**(-1.0047)  # kg/m3 for air [Incropera et al]\n",
    "\n",
    "kv = lambda T: 8.4569e-5*T - 1.1409e-2 # W/m-K in R-134a vapor [Laesecke et al 1992]\n",
    "Cpv = lambda T: 102.03*(1.94006e1 + 2.58531e-1*T + -1.29665e-4*T**2) # J/kg-K for R-134a vapor [Dupont]\n",
    "Cpl = lambda T: 5.2419e-3*(T**2) - 1.6133*T + 8.6750e2 # J/kg-K for R-134a saturated liquid at 1 atm [Dupont]\n",
    "\n",
    "rho_w = lambda T: 1.5733e-4*(T**3) - 1.4079e-1*(T**2) + 4.1748e1*T - 3.1054e3 # kg/m3 for subcooled water [Hare & Sorensen]\n",
    "Cpw = lambda T: -1.1930e-2*(T**3) + 1.0037e1*(T**2) - 2.8151e3*T + 2.6740e5 # kJ/kg-K for water [Angell 1982]\n",
    "hfg = lambda T: 2500.8 -2.36*(T-273.15) + 0.0016*(T-273.15)**2 - 0.00006*(T-273.15)**3 # kJ/kg for water [Rogers & Yau 1989]\n",
    "\n",
    "D = 2.82e-5 # m^2/s  (water in air)"
   ]
  },
  {
   "cell_type": "code",
   "execution_count": 51,
   "metadata": {},
   "outputs": [],
   "source": [
    "# Antoine Equation for vapor pressure\n",
    "#    T [K]\n",
    "#    RH [0-1]\n",
    "def Pv(T,RH):\n",
    "    return 1e5*RH*np.exp(4.6543-(1435.264/(T-64.848)))"
   ]
  },
  {
   "cell_type": "code",
   "execution_count": 67,
   "metadata": {},
   "outputs": [],
   "source": [
    "# Magnus dew point temperature\n",
    "#    T [K]\n",
    "#    RH [0-1]\n",
    "def Tdew(T,RH):\n",
    "    return 273.15 + (257.14*np.log(Pv(T,RH)/611.21)/(18.678-np.log(Pv(T,RH)/611.21)))"
   ]
  },
  {
   "cell_type": "code",
   "execution_count": 24,
   "metadata": {},
   "outputs": [],
   "source": [
    "# Model function for radius of vapor field around the droplets\n",
    "#     x = mass fraction vapor = m_vap / m_liq\n",
    "#     y = air mass fraction = m_a / m\n",
    "#     rho_m = mixture density [kg/m^3]\n",
    "#     Nd = number density [m^-3]\n",
    "#     rho_v = vapor density [kg/m^3]\n",
    "def frv(x,y,rho_m,Nd,rho_v):\n",
    "    f1 = 3*x*(1-y)*rho_m\n",
    "    f2 = 4*Nd*np.pi*rho_v\n",
    "    return (f1/f2)**0.33333"
   ]
  },
  {
   "cell_type": "code",
   "execution_count": 25,
   "metadata": {},
   "outputs": [],
   "source": [
    "# Function for vapor-air heat transfer\n",
    "#     q = heat transfer [W]\n",
    "#     T = liquid-vapor equilibrium temperature [K]\n",
    "#     Tair = air temperature [K]\n",
    "#     Nd = number density [m^-3]\n",
    "#     x = mass fraction vapor = m_vap / m_liq\n",
    "#     y = air mass fraction = m_a / m\n",
    "#     rho_v = vapor density [kg/m^3]\n",
    "#     rho_m = mixture density [kg/m^3\n",
    "def fheat(q,T,Tair,Nd,d,x,y,rho_v,rho_m):\n",
    "    f1 = 4*np.pi*k_air(Tair)*(T-Tair)*Nd\n",
    "    f2 = rho_v*((2./d) - (1./frv(x,y,rho_m,Nd,rho_v)))\n",
    "    return (f1/f2)-q"
   ]
  },
  {
   "cell_type": "code",
   "execution_count": 40,
   "metadata": {},
   "outputs": [],
   "source": [
    "# Function for vapor-liquid rate change of enthalpy\n",
    "#     q = heat transfer [W]\n",
    "#     dTdt = dT/dt, rate change of liquid-vapor temperature [K/s]\n",
    "#     T = liquid-vapor equilibrium temperature [K]\n",
    "#     x = mass fraction vapor = m_vap / m_liq\n",
    "#     y = air mass fraction = m_a / m\n",
    "def fhlv(q,dTdt,x,y,T):\n",
    "    return (x*Cpv(T)+(1-x)*Cpl(T))*(1-y)*dTdt"
   ]
  },
  {
   "cell_type": "code",
   "execution_count": 28,
   "metadata": {},
   "outputs": [],
   "source": [
    "# Function for water mass transport rate using Fick's Law\n",
    "#     D = Diffusion coefficient [m^2/s]\n",
    "#     x = mass fraction vapor = m_vap / m_liq\n",
    "#     y = air mass fraction = m_a / m\n",
    "#     rho_m = mixture density [kg/m^3]\n",
    "#     Nd = number density [m^-3]\n",
    "#     rho_v = vapor density [kg/m^3]\n",
    "#     Tair = air temperature [K]\n",
    "#     RH = Relative humidity [0-1]\n",
    "#     V = cell volume [m^3]\n",
    "#     p = absolute pressure [Pa]\n",
    "def dmcdt(D,x,y,rho_m,Nd,rho_v,RH,Tair,V,p):\n",
    "    r_v=frv(x,y,rho_m,Nd,rho_v)\n",
    "    f1 = 4*D*np.pi*(r_v**2)*Pv(Tair,RH)*rho_w(Tair)*y*rho_v*Nd*V\n",
    "    f2 = 3*p*rho_a(Tair)\n",
    "    return f1/f2"
   ]
  },
  {
   "cell_type": "code",
   "execution_count": 73,
   "metadata": {},
   "outputs": [],
   "source": [
    "# Function for air and water vapor rate change of enthalpy\n",
    "#     q = heat transfer [W]\n",
    "#     dTadt = dTair/dt, rate change of air temperature [K/s]\n",
    "#     rho_m = mixture density [kg/m^3\n",
    "#     Nd = number density [m^-3]\n",
    "#     Tair = air temperature [K]\n",
    "#     mc = mass of condensed water [kg]\n",
    "#     RH = Relative humidity [0-1]\n",
    "#     p = absolute pressure [Pa]\n",
    "def fhaw(q,dTadt,rho_m,V,Tair,mc,RH,p):\n",
    "    dmc_dt = dmcdt(D,x,y,rho_m,Nd,rho_v,RH,Tair,V,p)\n",
    "    f1 = y*Cpa(Tair)*dTadt\n",
    "    f2 = (Cpw(Tair)/(rho_m*V))*dmc_dt*(Tair-Tdew(Tair,RH))\n",
    "    f3 = (Cpw(Tair)/(rho_m*V))*mc*dTadt\n",
    "    f4 = hfg(Tair)*dmc_dt/(rho_m*V)\n",
    "    return f1 + f2 + f3 + f4 - q"
   ]
  },
  {
   "cell_type": "code",
   "execution_count": 95,
   "metadata": {},
   "outputs": [
    {
     "name": "stdout",
     "output_type": "stream",
     "text": [
      "5.217678549939228e-10\n",
      "-19.478504424396824\n",
      "11.981235321804375\n",
      "-15.581555671049898\n"
     ]
    }
   ],
   "source": [
    "# Constants from CFD.\n",
    "T=250\n",
    "Nd=1e9\n",
    "d=5e-6\n",
    "x=1e-3\n",
    "y=.5\n",
    "rho_v=1.2\n",
    "rho_m=200\n",
    "RH=.95\n",
    "V=1e-9\n",
    "p=101325\n",
    "\n",
    "\n",
    "# Initial guesses\n",
    "q=0\n",
    "Tair=280\n",
    "dTdt=(Tair-T)\n",
    "dTadt=-dTdt\n",
    "mc=0\n",
    "\n",
    "print(dmcdt(D,x,y,rho_m,Nd,rho_v,RH,Tair,V,p)) # rate of water transport [kg/s]\n",
    "print(fheat(q,T,Tair,Nd,d,x,y,rho_v,rho_m)*1e-3) # vapor-air heat transfer [kW]\n",
    "print(fhlv(q,dTdt,x,y,T)*1e-3) # enthalpy change in the liquid-vapor mixture [kW]\n",
    "print(fhaw(q,dTadt,rho_m,V,Tair,mc,RH,p)*1e-3) # enthalpy change in the moist air [kW]"
   ]
  },
  {
   "cell_type": "code",
   "execution_count": null,
   "metadata": {},
   "outputs": [],
   "source": []
  }
 ],
 "metadata": {
  "kernelspec": {
   "display_name": "Python 3",
   "language": "python",
   "name": "python3"
  },
  "language_info": {
   "codemirror_mode": {
    "name": "ipython",
    "version": 3
   },
   "file_extension": ".py",
   "mimetype": "text/x-python",
   "name": "python",
   "nbconvert_exporter": "python",
   "pygments_lexer": "ipython3",
   "version": "3.8.6"
  }
 },
 "nbformat": 4,
 "nbformat_minor": 4
}
