{
 "cells": [
  {
   "cell_type": "markdown",
   "metadata": {},
   "source": [
    "# Condensation of water from humid air around a droplet\n",
    "\n",
    "Description\n",
    "\n",
    "    @author Daniel Duke <daniel.duke@monash.edu>\n",
    "    @copyright (c) 2020 LTRAC\n",
    "    @license GPL-3.0+\n",
    "    @version 0.0.1\n",
    "    @date 05/11/2020\n",
    "        __   ____________    ___    ______\n",
    "       / /  /_  ____ __  \\  /   |  / ____/\n",
    "      / /    / /   / /_/ / / /| | / /\n",
    "     / /___ / /   / _, _/ / ___ |/ /_________\n",
    "    /_____//_/   /_/ |__\\/_/  |_|\\__________/\n",
    "\n",
    "    Laboratory for Turbulence Research in Aerospace & Combustion (LTRAC)\n",
    "    Monash University, Australia\n",
    "\n"
   ]
  },
  {
   "cell_type": "code",
   "execution_count": 1,
   "metadata": {},
   "outputs": [],
   "source": [
    "import numpy as np\n",
    "import matplotlib.pyplot as plt\n",
    "%matplotlib notebook"
   ]
  },
  {
   "cell_type": "code",
   "execution_count": 18,
   "metadata": {},
   "outputs": [],
   "source": [
    "# Constants for water\n",
    "D = 2.82e-5 # m^2/s  (water in air)\n",
    "Mwt = 18.01528 # kg/kmol\n",
    "Cp = 4182*Mwt # kJ/kmol-K  \n",
    "Hv = 2264.705*Mwt # kJ/kmol"
   ]
  },
  {
   "cell_type": "code",
   "execution_count": 5,
   "metadata": {},
   "outputs": [],
   "source": [
    "# Antoine Equation for vapor pressure\n",
    "#    T [K]\n",
    "#    RH [0-1]\n",
    "def Pv(T,RH):\n",
    "    return 1e5*RH*np.exp(4.6543-(1435.264/(T-64.848)))"
   ]
  },
  {
   "cell_type": "code",
   "execution_count": 6,
   "metadata": {},
   "outputs": [],
   "source": [
    "# Magnus dew point temperature\n",
    "def Td(T,RH):\n",
    "    273.15 + (257.14*np.log(Pv(T,RH)/611.21)/(18.678-np.log(Pv(T,RH)/611.21)))"
   ]
  },
  {
   "cell_type": "code",
   "execution_count": 8,
   "metadata": {},
   "outputs": [],
   "source": [
    "# Series solution for a spherical Laplacian.\n",
    "def series(r,A,B):\n",
    "    return np.sum([ A[i]*(r**i) + B[i]*(r**(-i-1)) for i in range(len(A)) ])  "
   ]
  },
  {
   "cell_type": "code",
   "execution_count": 19,
   "metadata": {},
   "outputs": [
    {
     "name": "stdout",
     "output_type": "stream",
     "text": [
      "793783186.5856274\n"
     ]
    }
   ],
   "source": [
    "# Boundary conditions\n",
    "P = 101325.\n",
    "Tair = 297.\n",
    "RH = 1.\n",
    "c = 1e-3 # mol/m^3 = \n",
    "hinf = (Cp*Tair + Hv*Pv(Tair,RH)/P)*(c/D)\n",
    "print(hinf)"
   ]
  },
  {
   "cell_type": "code",
   "execution_count": null,
   "metadata": {},
   "outputs": [],
   "source": []
  }
 ],
 "metadata": {
  "kernelspec": {
   "display_name": "Python 3",
   "language": "python",
   "name": "python3"
  },
  "language_info": {
   "codemirror_mode": {
    "name": "ipython",
    "version": 3
   },
   "file_extension": ".py",
   "mimetype": "text/x-python",
   "name": "python",
   "nbconvert_exporter": "python",
   "pygments_lexer": "ipython3",
   "version": "3.8.6"
  }
 },
 "nbformat": 4,
 "nbformat_minor": 4
}
