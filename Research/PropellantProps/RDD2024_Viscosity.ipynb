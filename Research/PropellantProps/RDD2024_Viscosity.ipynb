{
 "cells": [
  {
   "cell_type": "markdown",
   "id": "0b2f6055-70bf-453f-a555-33a214e25aeb",
   "metadata": {},
   "source": [
    "# Plotting refrigerant-ethanol viscosity data for RDD-2024 Poster\n",
    "\n",
    "Data collected by Swetha Vutlapalli - 2023\n",
    "\n",
    "    @author Daniel Duke <daniel.duke@monash.edu>\n",
    "    @copyright (c) 2023 D.Duke\n",
    "    @license GPL-3.0+\n",
    "    @version 0.0.1\n",
    "    @date 27/04/2024\n",
    "        __   ____________    ___    ______\n",
    "       / /  /_  ____ __  \\  /   |  / ____/\n",
    "      / /    / /   / /_/ / / /| | / /\n",
    "     / /___ / /   / _, _/ / ___ |/ /_________\n",
    "    /_____//_/   /_/ |__\\/_/  |_|\\__________/\n",
    "\n",
    "    Laboratory for Turbulence Research in Aerospace & Combustion (LTRAC)\n",
    "    Monash University, Australia\n",
    "\n",
    "    This program is free software: you can redistribute it and/or modify\n",
    "    it under the terms of the GNU General Public License as published by\n",
    "    the Free Software Foundation, either version 3 of the License, or\n",
    "    (at your option) any later version.\n",
    "\n",
    "    This program is distributed in the hope that it will be useful,\n",
    "    but WITHOUT ANY WARRANTY; without even the implied warranty of\n",
    "    MERCHANTABILITY or FITNESS FOR A PARTICULAR PURPOSE.  See the\n",
    "    GNU General Public License for more details.\n",
    "\n",
    "    You should have received a copy of the GNU General Public License\n",
    "    along with this program.  If not, see <https://www.gnu.org/licenses/>."
   ]
  },
  {
   "cell_type": "code",
   "execution_count": 3,
   "id": "efe89bc3-3901-4ab1-8ff0-f55a58d8332c",
   "metadata": {},
   "outputs": [],
   "source": [
    "import numpy as np\n",
    "import matplotlib as mpl\n",
    "import matplotlib.pyplot as plt\n",
    "import pandas as pd\n",
    "%matplotlib widget"
   ]
  },
  {
   "cell_type": "code",
   "execution_count": null,
   "id": "1252f456-8363-48a6-b80e-652fb01ef338",
   "metadata": {},
   "outputs": [],
   "source": [
    "# Where data are stored.\n",
    "directory = \"/Users/dduke/Library/CloudStorage/GoogleDrive-daniel.duke@monash.edu/My Drive/Papers-Drafts/Other student papers/SVP_pure_mixtures_Data/\"\n",
    "filename = \"R134_Data_05032023.xlsx\""
   ]
  }
 ],
 "metadata": {
  "kernelspec": {
   "display_name": "mainenv",
   "language": "python",
   "name": "mainenv"
  },
  "language_info": {
   "codemirror_mode": {
    "name": "ipython",
    "version": 3
   },
   "file_extension": ".py",
   "mimetype": "text/x-python",
   "name": "python",
   "nbconvert_exporter": "python",
   "pygments_lexer": "ipython3",
   "version": "3.12.3"
  }
 },
 "nbformat": 4,
 "nbformat_minor": 5
}
