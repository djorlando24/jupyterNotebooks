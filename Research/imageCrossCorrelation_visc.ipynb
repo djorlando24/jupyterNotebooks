{
 "cells": [
  {
   "cell_type": "markdown",
   "id": "f411acde",
   "metadata": {},
   "source": [
    "# Image Cross-Correlation of Ball Viscometer\n",
    "\n",
    "This program tracks a ball bearing moving in a sequence of high speed images.\n",
    "    \n",
    "    @author Daniel Duke <daniel.duke@monash.edu>\n",
    "    @copyright (c) 2020 LTRAC\n",
    "    @license GPL-3.0+\n",
    "    @version 0.0.1\n",
    "    @date 07/06/2022\n",
    "        __   ____________    ___    ______\n",
    "       / /  /_  ____ __  \\  /   |  / ____/\n",
    "      / /    / /   / /_/ / / /| | / /\n",
    "     / /___ / /   / _, _/ / ___ |/ /_________\n",
    "    /_____//_/   /_/ |__\\/_/  |_|\\__________/\n",
    "\n",
    "    Laboratory for Turbulence Research in Aerospace & Combustion (LTRAC)\n",
    "    Monash University, Australia"
   ]
  },
  {
   "cell_type": "code",
   "execution_count": 1,
   "id": "f1989c36",
   "metadata": {},
   "outputs": [],
   "source": [
    "from pySciCam.pySciCam import ImageSequence # https://github.com/djorlando24/pySciCam\n",
    "import numpy as np\n",
    "import glob, sys, os\n",
    "import matplotlib.pyplot as plt\n",
    "#from scipy.interpolate import interp2d\n",
    "#import scipy.integrate, scipy.signal\n",
    "#from joblib import Parallel, delayed\n",
    "%matplotlib notebook"
   ]
  },
  {
   "cell_type": "code",
   "execution_count": null,
   "id": "379e7805",
   "metadata": {},
   "outputs": [],
   "source": [
    "# Read images.\n",
    "srcdir = \"/home/dduke/Downloads/Ethanol/\"\n",
    "source_images =           srcdir+\"nz013_r134a_03.raw\"\n",
    "SPATIAL_RES = None # pixel per micron\n",
    "FRAME_RATE = 500. # frames/s\n",
    "\n",
    "I=ImageSequence(source_images, IO_threads=4)"
   ]
  },
  {
   "cell_type": "code",
   "execution_count": null,
   "id": "743c6b55",
   "metadata": {},
   "outputs": [],
   "source": [
    "# Apply crop?\n",
    "I.crop(0,1024,30,1280)"
   ]
  },
  {
   "cell_type": "code",
   "execution_count": null,
   "id": "343e8002",
   "metadata": {},
   "outputs": [],
   "source": [
    "# Remove background, put into array Ib\n",
    "Ib = np.zeros_like(I.arr,dtype=np.float32)\n",
    "bkgnd = np.nanmean(I.arr[...,:5].astype(np.float32),axis=0) # First 5 images are reference background\n",
    "bkgnd[bkgnd<=0] = np.nan\n",
    "for n in range(I.N):\n",
    "    Ib[n,...] = I.arr[n,...] / bkgnd\n",
    "    "
   ]
  },
  {
   "cell_type": "code",
   "execution_count": null,
   "id": "f3661635",
   "metadata": {},
   "outputs": [],
   "source": [
    "# Show some samples\n",
    "fig=plt.figure()\n",
    "plt.suptitle(\"Sample frames\\n\"+os.path.basename(source_images))\n",
    "ax=fig.add_subplot(221)\n",
    "h=ax.imshow(Ib[6,...],cmap=plt.cm.gray,vmin=0,vmax=1)\n",
    "plt.colorbar(h)\n",
    "ax=fig.add_subplot(222)\n",
    "h=ax.imshow(Ib[I.N/4,...],cmap=plt.cm.gray,vmin=0,vmax=1)\n",
    "plt.colorbar(h);\n",
    "ax=fig.add_subplot(223)\n",
    "h=ax.imshow(Ib[I.N/2,...],cmap=plt.cm.gray,vmin=0,vmax=1)\n",
    "plt.colorbar(h);\n",
    "ax=fig.add_subplot(224)\n",
    "h=ax.imshow(Ib[I.N-1,...],cmap=plt.cm.gray,vmin=0,vmax=1)\n",
    "plt.colorbar(h);"
   ]
  }
 ],
 "metadata": {
  "kernelspec": {
   "display_name": "Python 3",
   "language": "python",
   "name": "python3"
  },
  "language_info": {
   "codemirror_mode": {
    "name": "ipython",
    "version": 3
   },
   "file_extension": ".py",
   "mimetype": "text/x-python",
   "name": "python",
   "nbconvert_exporter": "python",
   "pygments_lexer": "ipython3",
   "version": "3.8.10"
  }
 },
 "nbformat": 4,
 "nbformat_minor": 5
}
