{
 "cells": [
  {
   "cell_type": "markdown",
   "id": "8ece054a",
   "metadata": {},
   "source": [
    "# OpenFOAM HRM Log Analysis\n",
    "\n",
    "This program plots data from HRMFoam log files for analysis (i.e. net mass flux).\n",
    "The data should already be extracted to HDF using ReadHRMLog\n",
    "    \n",
    "    @author Daniel Duke <daniel.duke@monash.edu>\n",
    "    @copyright (c) 2020 LTRAC\n",
    "    @license GPL-3.0+\n",
    "    @version 0.0.1\n",
    "    @date 02/11/2022\n",
    "        __   ____________    ___    ______\n",
    "       / /  /_  ____ __  \\  /   |  / ____/\n",
    "      / /    / /   / /_/ / / /| | / /\n",
    "     / /___ / /   / _, _/ / ___ |/ /_________\n",
    "    /_____//_/   /_/ |__\\/_/  |_|\\__________/\n",
    "\n",
    "    Laboratory for Turbulence Research in Aerospace & Combustion (LTRAC)\n",
    "    Monash University, Australia\n"
   ]
  },
  {
   "cell_type": "code",
   "execution_count": 1,
   "id": "d875593d",
   "metadata": {},
   "outputs": [],
   "source": [
    "# Load modules\n",
    "import numpy as np\n",
    "import glob, copy, gzip, natsort, tqdm, os\n",
    "import h5py\n",
    "#import matplotlib.pyplot as plt\n",
    "#%matplotlib notebook"
   ]
  },
  {
   "cell_type": "code",
   "execution_count": null,
   "id": "0a7a80e4",
   "metadata": {},
   "outputs": [],
   "source": []
  }
 ],
 "metadata": {
  "kernelspec": {
   "display_name": "Python 3",
   "language": "python",
   "name": "python3"
  },
  "language_info": {
   "codemirror_mode": {
    "name": "ipython",
    "version": 3
   },
   "file_extension": ".py",
   "mimetype": "text/x-python",
   "name": "python",
   "nbconvert_exporter": "python",
   "pygments_lexer": "ipython3",
   "version": "3.10.6"
  }
 },
 "nbformat": 4,
 "nbformat_minor": 5
}
