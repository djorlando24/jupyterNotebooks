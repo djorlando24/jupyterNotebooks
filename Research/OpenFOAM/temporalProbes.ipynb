{
 "cells": [
  {
   "cell_type": "markdown",
   "metadata": {},
   "source": [
    "# OpenFOAM TemporalProbe Analysis\n",
    "\n",
    "This program shows the evolution of multiple temporal probes for an OpenFOAM case.\n",
    "    \n",
    "    @author Daniel Duke <daniel.duke@monash.edu>\n",
    "    @copyright (c) 2020 LTRAC\n",
    "    @license GPL-3.0+\n",
    "    @version 0.0.1\n",
    "    @date 30/05/2021\n",
    "        __   ____________    ___    ______\n",
    "       / /  /_  ____ __  \\  /   |  / ____/\n",
    "      / /    / /   / /_/ / / /| | / /\n",
    "     / /___ / /   / _, _/ / ___ |/ /_________\n",
    "    /_____//_/   /_/ |__\\/_/  |_|\\__________/\n",
    "\n",
    "    Laboratory for Turbulence Research in Aerospace & Combustion (LTRAC)\n",
    "    Monash University, Australia\n"
   ]
  },
  {
   "cell_type": "code",
   "execution_count": 8,
   "metadata": {},
   "outputs": [],
   "source": [
    "# Load modules\n",
    "import numpy as np\n",
    "import glob\n",
    "import tqdm\n",
    "import matplotlib.pyplot as plt\n",
    "%matplotlib notebook"
   ]
  },
  {
   "cell_type": "code",
   "execution_count": 5,
   "metadata": {},
   "outputs": [],
   "source": [
    "case_dir = '/mnt/internal/2021_pmdi/les_pmdimv2_0.33x1.2_trial_134a15pcEtOH_smi'\n",
    "variables = ['y']"
   ]
  },
  {
   "cell_type": "code",
   "execution_count": null,
   "metadata": {},
   "outputs": [
    {
     "name": "stderr",
     "output_type": "stream",
     "text": [
      " 25%|██▌       | 3/12 [00:02<00:07,  1.25it/s]"
     ]
    }
   ],
   "source": [
    "def analyse_variable(v):\n",
    "    \n",
    "    # Get all the data\n",
    "    files = glob.glob(case_dir+'/temporalProbes/*/'+v)\n",
    "    \n",
    "    # Get the time steps\n",
    "    t0s = [ float(f[len(case_dir)+1:].split('/')[1]) for f in files ]\n",
    "    \n",
    "    # Put them in order\n",
    "    idx = np.argsort(t0s)\n",
    "\n",
    "    # Read in the data, in order of the starting time of each subset of data.\n",
    "    data = []\n",
    "    for i in tqdm.tqdm(idx):\n",
    "        data.append( np.genfromtxt(files[i]) )\n",
    "    \n",
    "    # Arrange the data into a single large matrix, truncating any repeated timesteps at the end of a run\n",
    "    A = []\n",
    "    tmax_last = 0.\n",
    "    for d in data:\n",
    "        \n",
    "        t = d[:,0]\n",
    "        print(d.shape,t.min(),t.max())\n",
    "        \n",
    "        if A == []: # copy\n",
    "            A = d[...] \n",
    "        \n",
    "        elif t.min() >= tmax_last: # no overlap\n",
    "            A = np.hstack((A, d))\n",
    "            \n",
    "        else: # has overlap - discard end of previous run\n",
    "            deltat = np.abs(A[:,0] - t.min())\n",
    "            te = np.where( deltat == np.nanmin(deltat) )[0][0]\n",
    "            A = np.hstack((A[:te], d))\n",
    "            \n",
    "        tmax_last = t.max()\n",
    "        print('\\t',A.shape)\n",
    "        \n",
    "    del data\n",
    "    \n",
    "    fig=plt.figure()\n",
    "    plt.plot(np.arange(A[:,0]),A[:,0]);\n",
    "    \n",
    "    return\n",
    "\n",
    "for v in variables: analyse_variable(v)"
   ]
  },
  {
   "cell_type": "code",
   "execution_count": null,
   "metadata": {},
   "outputs": [],
   "source": []
  }
 ],
 "metadata": {
  "kernelspec": {
   "display_name": "Python 3",
   "language": "python",
   "name": "python3"
  },
  "language_info": {
   "codemirror_mode": {
    "name": "ipython",
    "version": 3
   },
   "file_extension": ".py",
   "mimetype": "text/x-python",
   "name": "python",
   "nbconvert_exporter": "python",
   "pygments_lexer": "ipython3",
   "version": "3.8.5"
  }
 },
 "nbformat": 4,
 "nbformat_minor": 4
}
