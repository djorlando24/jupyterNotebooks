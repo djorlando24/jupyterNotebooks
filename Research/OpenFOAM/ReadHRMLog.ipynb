{
 "cells": [
  {
   "cell_type": "markdown",
   "id": "3cd52ee0",
   "metadata": {},
   "source": [
    "# OpenFOAM HRM Log Analysis\n",
    "\n",
    "This program extracts data from HRMFoam log files for analysis (i.e. net mass flux).\n",
    "    \n",
    "    @author Daniel Duke <daniel.duke@monash.edu>\n",
    "    @copyright (c) 2020 LTRAC\n",
    "    @license GPL-3.0+\n",
    "    @version 0.0.1\n",
    "    @date 02/11/2022\n",
    "        __   ____________    ___    ______\n",
    "       / /  /_  ____ __  \\  /   |  / ____/\n",
    "      / /    / /   / /_/ / / /| | / /\n",
    "     / /___ / /   / _, _/ / ___ |/ /_________\n",
    "    /_____//_/   /_/ |__\\/_/  |_|\\__________/\n",
    "\n",
    "    Laboratory for Turbulence Research in Aerospace & Combustion (LTRAC)\n",
    "    Monash University, Australia\n"
   ]
  },
  {
   "cell_type": "code",
   "execution_count": 1,
   "id": "78915737",
   "metadata": {
    "scrolled": false
   },
   "outputs": [],
   "source": [
    "# Load modules\n",
    "import numpy as np\n",
    "import glob, copy, gzip, natsort, tqdm, os\n",
    "import h5py"
   ]
  },
  {
   "cell_type": "code",
   "execution_count": 2,
   "id": "bcd57dab",
   "metadata": {
    "scrolled": true
   },
   "outputs": [],
   "source": [
    "# Read HRMFoam Log file, and extract key parameters in log at each iteration such as mass fluxes.\n",
    "def read_logfile(logFile):\n",
    "    time = []\n",
    "    data = {}\n",
    "    unit = {}\n",
    "    \n",
    "    print(\"Scanning \"+logFile+\"...\")\n",
    "    \n",
    "    with gzip.open(logFile,'r') as F:\n",
    "        Nlines=len(F.readlines())\n",
    "    \n",
    "    with gzip.open(logFile,'r') as F:\n",
    "        print(\"Reading data...\")\n",
    "        pbar = tqdm.tqdm(total=Nlines)\n",
    "        \n",
    "        l=F.readline(); n=1; m=0\n",
    "        while n<Nlines:\n",
    "            \n",
    "            if (not b'Time =' in l) or (b'ClockTime' in l):\n",
    "                # keep looping until we see 'Time =' string\n",
    "                # make exception for the ExecutionTime/ClockTime string at end of run - ignore it\n",
    "                l=F.readline(); n+=1\n",
    "                \n",
    "            else:\n",
    "                # Begin iteration block\n",
    "                pbar.update(n-m); m=n\n",
    "                # Record the time for this block\n",
    "                time.append(float(l.decode('ascii').split('=')[1]))\n",
    "                # Next line\n",
    "                l=F.readline(); n+=1\n",
    "\n",
    "                # Keep going until the next 'Time =' string indicating a new iteration\n",
    "                # Make an exception for the 'Net mass flux' string which has 'Time' in it\n",
    "                while (not b'Time =' in l) or (b'Net mass flux' in l):\n",
    "\n",
    "                    # Pressure/velocity data string\n",
    "                    # Make exception for some error codes\n",
    "                    if (b' is ' in l) and (not b'First token' in l) and (not b'Check header' in l):\n",
    "                        # Break apart this string by the word 'is' and the units brackets\n",
    "                        s = l.decode('ascii').strip().replace('is','[').replace(']','[').split('[')\n",
    "                        # remove leading and trailing whitespace\n",
    "                        s = [ ss.strip() for ss in s ]\n",
    "                        # Break apart each variable into name, value and units\n",
    "                        for i in range(0,len(s)-2,3):\n",
    "                            if s[i] in data.keys(): # not first time\n",
    "                                data[s[i]].append(float(s[i+1]))\n",
    "                            else: # first time\n",
    "                                data[s[i]]=[float(s[i+1])]\n",
    "                                unit[s[i]]=s[i+2]\n",
    "\n",
    "                    # Mass fluxes data string\n",
    "                    elif b' at ' in l:\n",
    "                        # Break apart this string by the = sign\n",
    "                        s = l.decode('ascii').strip().split('=')\n",
    "                        # remove leading and trailing whitespace\n",
    "                        s = [ ss.strip() for ss in s ]\n",
    "                        if(len(s)>1):\n",
    "                            if s[0] in data.keys(): # not first time\n",
    "                                data[s[0]].append(float(s[1]))\n",
    "                            else:\n",
    "                                data[s[0]]=[float(s[1])]\n",
    "                                unit[s[0]]=''\n",
    "\n",
    "                    elif b'Net mass flux' in l:\n",
    "                         # Break apart this string by the = sign\n",
    "                        s = l.decode('ascii').strip().split('=')\n",
    "                        # remove leading and trailing whitespace\n",
    "                        s = [ ss.strip() for ss in s ]\n",
    "                        if 'Net mass flux' in data.keys(): # not first time\n",
    "                            data['Net mass flux'].append(float(s[-1]))\n",
    "                        else:\n",
    "                            data['Net mass flux']=[float(s[-1])]\n",
    "                            unit['Net mass flux']=''\n",
    "                    \n",
    "                    elif n>=Nlines: break # detect premature EoF\n",
    "                    \n",
    "                    l=F.readline(); n+=1\n",
    "                    \n",
    "            # end iteration block\n",
    "            \n",
    "    pbar.close()\n",
    "    \n",
    "    # Convert data to NumPy Arrays\n",
    "    for k in data.keys():\n",
    "        data[k] = np.array(data[k])\n",
    "    time=np.array(time)\n",
    "    \n",
    "    # Remove empty keys\n",
    "    if '' in data.keys():\n",
    "        del data['']\n",
    "    \n",
    "    return time, data, unit"
   ]
  },
  {
   "cell_type": "markdown",
   "id": "42eb6724",
   "metadata": {},
   "source": [
    "## Main program\n",
    "Read logs and write them to a HDF5 file."
   ]
  },
  {
   "cell_type": "code",
   "execution_count": 3,
   "id": "84e9b1d9",
   "metadata": {},
   "outputs": [],
   "source": [
    "def readCase(logFiles, outputFile):\n",
    "\n",
    "    # Read all log files and write to HDF5\n",
    "    with h5py.File(outputFile,'w') as H:\n",
    "        for logFile in natsort.natsorted(glob.glob(logFiles)):\n",
    "\n",
    "            time,data,unit = read_logfile(logFile)\n",
    "\n",
    "            G=H.create_group(os.path.basename(logFile))\n",
    "            t_=G.create_dataset('time',data=time,compression='gzip')\n",
    "            t_.attrs['unit']='s'\n",
    "            for k in data.keys():\n",
    "                try:\n",
    "                    d_=G.create_dataset(k,data=data[k],compression='gzip')\n",
    "                    d_.attrs['unit']=unit[k]\n",
    "                except:\n",
    "                    print(data.keys())\n",
    "                    raise\n",
    "\n",
    "            print(\"Wrote %i variables over %i iterations to %s\" % (len(data.keys()),len(time),G.name))\n",
    "            print(\"\")"
   ]
  },
  {
   "cell_type": "markdown",
   "id": "fe9e2f9d",
   "metadata": {},
   "source": [
    "## Call main program once."
   ]
  },
  {
   "cell_type": "code",
   "execution_count": null,
   "id": "beb0d775",
   "metadata": {
    "scrolled": true
   },
   "outputs": [],
   "source": [
    "# One run\n",
    "topLevel = \"/mnt/internal/2021_pmdi/newGeomTrial/postProcessing/massFlux/convergence_134a15pcEtOH/\"\n",
    "case = \"ures\"\n",
    "logFiles = topLevel + case + \"/*\"\n",
    "outputFile = topLevel + case + \".h5\"\n",
    "readCase(logFiles, outputFile)"
   ]
  },
  {
   "cell_type": "code",
   "execution_count": null,
   "id": "6f906970",
   "metadata": {},
   "outputs": [],
   "source": [
    "# One run\n",
    "topLevel = \"/mnt/internal/2021_pmdi/newGeomTrial/postProcessing/massFlux/ures/\"\n",
    "case = \"152a15pcEtOH\"\n",
    "logFiles = topLevel + case + \"/*\"\n",
    "outputFile = topLevel + case + \".h5\"\n",
    "readCase(logFiles, outputFile)"
   ]
  },
  {
   "cell_type": "markdown",
   "id": "c0e7f69b",
   "metadata": {},
   "source": [
    "### Variable Geometry"
   ]
  },
  {
   "cell_type": "code",
   "execution_count": 4,
   "id": "3795d07c",
   "metadata": {
    "scrolled": false
   },
   "outputs": [
    {
     "name": "stdout",
     "output_type": "stream",
     "text": [
      "-- Skipped existing /mnt/internal-hdd/2021_pmdi/newGeomTrial/postProcessing/massFlux/newGeomTrial/newGeomTrial_134a.h5\n",
      "-- Writing into /mnt/internal-hdd/2021_pmdi/newGeomTrial/postProcessing/massFlux/newGeomTrial/newGeomTrial_152a.h5\n",
      "Scanning /mnt/internal-hdd/2021_pmdi/newGeomTrial/postProcessing/massFlux/newGeomTrial/noz1_152a.txt.gz...\n",
      "Reading data...\n"
     ]
    },
    {
     "name": "stderr",
     "output_type": "stream",
     "text": [
      "100%|██████████████████████████████████████████████████████████████████████████████████▉| 44144839/44144879 [02:07<00:00, 345025.15it/s]\n"
     ]
    },
    {
     "name": "stdout",
     "output_type": "stream",
     "text": [
      "Wrote 14 variables over 1036081 iterations to /noz1_152a.txt.gz\n",
      "\n",
      "Scanning /mnt/internal-hdd/2021_pmdi/newGeomTrial/postProcessing/massFlux/newGeomTrial/noz2_152a.txt.gz...\n",
      "Reading data...\n"
     ]
    },
    {
     "name": "stderr",
     "output_type": "stream",
     "text": [
      "100%|████████████████████████████████████████████████████████████████████████████████▉| 121208024/121208048 [05:07<00:00, 394523.84it/s]\n"
     ]
    },
    {
     "name": "stdout",
     "output_type": "stream",
     "text": [
      "Wrote 14 variables over 2884317 iterations to /noz2_152a.txt.gz\n",
      "\n",
      "Scanning /mnt/internal-hdd/2021_pmdi/newGeomTrial/postProcessing/massFlux/newGeomTrial/noz3_152a.txt.gz...\n",
      "Reading data...\n"
     ]
    },
    {
     "name": "stderr",
     "output_type": "stream",
     "text": [
      "100%|██████████████████████████████████████████████████████████████████████████████████▉| 34888878/34888919 [01:47<00:00, 324298.41it/s]\n"
     ]
    },
    {
     "name": "stdout",
     "output_type": "stream",
     "text": [
      "Wrote 14 variables over 855995 iterations to /noz3_152a.txt.gz\n",
      "\n",
      "Scanning /mnt/internal-hdd/2021_pmdi/newGeomTrial/postProcessing/massFlux/newGeomTrial/noz4_152a.txt.gz...\n",
      "Reading data...\n"
     ]
    },
    {
     "name": "stderr",
     "output_type": "stream",
     "text": [
      "100%|██████████████████████████████████████████████████████████████████████████████████▉| 42795885/42796089 [02:57<00:00, 241388.31it/s]\n"
     ]
    },
    {
     "name": "stdout",
     "output_type": "stream",
     "text": [
      "Wrote 14 variables over 1008680 iterations to /noz4_152a.txt.gz\n",
      "\n",
      "Scanning /mnt/internal-hdd/2021_pmdi/newGeomTrial/postProcessing/massFlux/newGeomTrial/noz5_152a.txt.gz...\n",
      "Reading data...\n"
     ]
    },
    {
     "name": "stderr",
     "output_type": "stream",
     "text": [
      "100%|██████████████████████████████████████████████████████████████████████████████████▉| 33886013/33886203 [02:19<00:00, 242611.88it/s]\n"
     ]
    },
    {
     "name": "stdout",
     "output_type": "stream",
     "text": [
      "Wrote 14 variables over 785776 iterations to /noz5_152a.txt.gz\n",
      "\n",
      "Scanning /mnt/internal-hdd/2021_pmdi/newGeomTrial/postProcessing/massFlux/newGeomTrial/noz6_152a.txt.gz...\n",
      "Reading data...\n"
     ]
    },
    {
     "name": "stderr",
     "output_type": "stream",
     "text": [
      "100%|████████████████████████████████████████████████████████████████████████████████▉| 110051154/110052329 [05:54<00:00, 310581.16it/s]\n"
     ]
    },
    {
     "name": "stdout",
     "output_type": "stream",
     "text": [
      "Wrote 14 variables over 2587588 iterations to /noz6_152a.txt.gz\n",
      "\n",
      "Scanning /mnt/internal-hdd/2021_pmdi/newGeomTrial/postProcessing/massFlux/newGeomTrial/noz7_152a.txt.gz...\n",
      "Reading data...\n"
     ]
    },
    {
     "name": "stderr",
     "output_type": "stream",
     "text": [
      "100%|██████████████████████████████████████████████████████████████████████████████████▉| 32619410/32619441 [01:45<00:00, 308667.32it/s]\n"
     ]
    },
    {
     "name": "stdout",
     "output_type": "stream",
     "text": [
      "Wrote 14 variables over 775503 iterations to /noz7_152a.txt.gz\n",
      "\n",
      "Scanning /mnt/internal-hdd/2021_pmdi/newGeomTrial/postProcessing/massFlux/newGeomTrial/noz8_152a.txt.gz...\n",
      "Reading data...\n"
     ]
    },
    {
     "name": "stderr",
     "output_type": "stream",
     "text": [
      "100%|██████████████████████████████████████████████████████████████████████████████████▉| 29739821/29739864 [01:24<00:00, 353965.50it/s]\n"
     ]
    },
    {
     "name": "stdout",
     "output_type": "stream",
     "text": [
      "Wrote 14 variables over 710335 iterations to /noz8_152a.txt.gz\n",
      "\n",
      "Scanning /mnt/internal-hdd/2021_pmdi/newGeomTrial/postProcessing/massFlux/newGeomTrial/noz9_152a.txt.gz...\n",
      "Reading data...\n"
     ]
    },
    {
     "name": "stderr",
     "output_type": "stream",
     "text": [
      "100%|██████████████████████████████████████████████████████████████████████████████████▉| 81203777/81203799 [04:23<00:00, 308338.33it/s]\n"
     ]
    },
    {
     "name": "stdout",
     "output_type": "stream",
     "text": [
      "Wrote 14 variables over 1918236 iterations to /noz9_152a.txt.gz\n",
      "\n",
      "-- Writing into /mnt/internal-hdd/2021_pmdi/newGeomTrial/postProcessing/massFlux/newGeomTrial/newGeomTrial_1234ze.h5\n",
      "Scanning /mnt/internal-hdd/2021_pmdi/newGeomTrial/postProcessing/massFlux/newGeomTrial/noz1_1234ze.txt.gz...\n",
      "Reading data...\n"
     ]
    },
    {
     "name": "stderr",
     "output_type": "stream",
     "text": [
      "100%|██████████████████████████████████████████████████████████████████████████████████▉| 26848923/26848948 [01:26<00:00, 310409.94it/s]\n"
     ]
    },
    {
     "name": "stdout",
     "output_type": "stream",
     "text": [
      "Wrote 14 variables over 628238 iterations to /noz1_1234ze.txt.gz\n",
      "\n",
      "Scanning /mnt/internal-hdd/2021_pmdi/newGeomTrial/postProcessing/massFlux/newGeomTrial/noz2_1234ze.txt.gz...\n",
      "Reading data...\n"
     ]
    },
    {
     "name": "stderr",
     "output_type": "stream",
     "text": [
      "100%|████████████████████████████████████████████████████████████████████████████████▉| 118527501/118527515 [05:43<00:00, 345075.10it/s]\n"
     ]
    },
    {
     "name": "stdout",
     "output_type": "stream",
     "text": [
      "Wrote 14 variables over 2810712 iterations to /noz2_1234ze.txt.gz\n",
      "\n",
      "Scanning /mnt/internal-hdd/2021_pmdi/newGeomTrial/postProcessing/massFlux/newGeomTrial/noz3_1234ze.txt.gz...\n",
      "Reading data...\n"
     ]
    },
    {
     "name": "stderr",
     "output_type": "stream",
     "text": [
      "100%|████████████████████████████████████████████████████████████████████████████████▉| 108325109/108325114 [05:26<00:00, 331779.21it/s]\n"
     ]
    },
    {
     "name": "stdout",
     "output_type": "stream",
     "text": [
      "Wrote 14 variables over 2573641 iterations to /noz3_1234ze.txt.gz\n",
      "\n",
      "Scanning /mnt/internal-hdd/2021_pmdi/newGeomTrial/postProcessing/massFlux/newGeomTrial/noz4_1234ze.txt.gz...\n",
      "Reading data...\n"
     ]
    },
    {
     "name": "stderr",
     "output_type": "stream",
     "text": [
      "100%|██████████████████████████████████████████████████████████████████████████████████▉| 74107658/74107672 [03:40<00:00, 336463.23it/s]\n"
     ]
    },
    {
     "name": "stdout",
     "output_type": "stream",
     "text": [
      "Wrote 14 variables over 1733622 iterations to /noz4_1234ze.txt.gz\n",
      "\n",
      "Scanning /mnt/internal-hdd/2021_pmdi/newGeomTrial/postProcessing/massFlux/newGeomTrial/noz5_1234ze.txt.gz...\n",
      "Reading data...\n"
     ]
    },
    {
     "name": "stderr",
     "output_type": "stream",
     "text": [
      "100%|██████████████████████████████████████████████████████████████████████████████████▉| 23365232/23365276 [01:11<00:00, 324992.34it/s]\n"
     ]
    },
    {
     "name": "stdout",
     "output_type": "stream",
     "text": [
      "Wrote 14 variables over 531299 iterations to /noz5_1234ze.txt.gz\n",
      "\n",
      "Scanning /mnt/internal-hdd/2021_pmdi/newGeomTrial/postProcessing/massFlux/newGeomTrial/noz6_1234ze.txt.gz...\n",
      "Reading data...\n"
     ]
    },
    {
     "name": "stderr",
     "output_type": "stream",
     "text": [
      "100%|████████████████████████████████████████████████████████████████████████████████▉| 143371669/143371681 [07:03<00:00, 338903.95it/s]\n"
     ]
    },
    {
     "name": "stdout",
     "output_type": "stream",
     "text": [
      "Wrote 14 variables over 3383445 iterations to /noz6_1234ze.txt.gz\n",
      "\n",
      "Scanning /mnt/internal-hdd/2021_pmdi/newGeomTrial/postProcessing/massFlux/newGeomTrial/noz7_1234ze.txt.gz...\n",
      "Reading data...\n"
     ]
    },
    {
     "name": "stderr",
     "output_type": "stream",
     "text": [
      "0it [00:00, ?it/s]\n"
     ]
    },
    {
     "name": "stdout",
     "output_type": "stream",
     "text": [
      "Wrote 0 variables over 0 iterations to /noz7_1234ze.txt.gz\n",
      "\n",
      "Scanning /mnt/internal-hdd/2021_pmdi/newGeomTrial/postProcessing/massFlux/newGeomTrial/noz8_1234ze.txt.gz...\n",
      "Reading data...\n"
     ]
    },
    {
     "name": "stderr",
     "output_type": "stream",
     "text": [
      "0it [00:00, ?it/s]"
     ]
    },
    {
     "name": "stdout",
     "output_type": "stream",
     "text": [
      "Wrote 0 variables over 0 iterations to /noz8_1234ze.txt.gz\n",
      "\n",
      "Scanning /mnt/internal-hdd/2021_pmdi/newGeomTrial/postProcessing/massFlux/newGeomTrial/noz9_1234ze.txt.gz...\n"
     ]
    },
    {
     "name": "stderr",
     "output_type": "stream",
     "text": [
      "\n"
     ]
    },
    {
     "name": "stdout",
     "output_type": "stream",
     "text": [
      "Reading data...\n"
     ]
    },
    {
     "name": "stderr",
     "output_type": "stream",
     "text": [
      "100%|████████████████████████████████████████████████████████████████████████████████▉| 142916493/142916506 [06:49<00:00, 349409.88it/s]\n"
     ]
    },
    {
     "name": "stdout",
     "output_type": "stream",
     "text": [
      "Wrote 14 variables over 3359193 iterations to /noz9_1234ze.txt.gz\n",
      "\n",
      "-- Skipped existing /mnt/internal-hdd/2021_pmdi/newGeomTrial/postProcessing/massFlux/newGeomTrial/newGeomTrial_134a15pcEtOH.h5\n",
      "-- Skipped existing /mnt/internal-hdd/2021_pmdi/newGeomTrial/postProcessing/massFlux/newGeomTrial/newGeomTrial_152a15pcEtOH.h5\n",
      "-- Skipped existing /mnt/internal-hdd/2021_pmdi/newGeomTrial/postProcessing/massFlux/newGeomTrial/newGeomTrial_1234ze15pcEtOH.h5\n",
      "Finished.\n"
     ]
    }
   ],
   "source": [
    "topLevel = \"/mnt/internal-hdd/2021_pmdi/newGeomTrial/postProcessing/massFlux/newGeomTrial/\"\n",
    "for p in ['134a','152a','1234ze','134a15pcEtOH','152a15pcEtOH','1234ze15pcEtOH']:\n",
    "    \n",
    "    logFiles = topLevel + \"noz?_\" + p + \".txt.gz\"\n",
    "        \n",
    "    outputFile = topLevel + \"newGeomTrial_\"  + p + \".h5\"\n",
    "    \n",
    "    if not os.path.isfile(outputFile):\n",
    "        print(\"-- Writing into \"+outputFile)\n",
    "        readCase(logFiles, outputFile)\n",
    "    else:\n",
    "        print(\"-- Skipped existing \"+outputFile)\n",
    "    \n",
    "print(\"Finished.\")"
   ]
  }
 ],
 "metadata": {
  "kernelspec": {
   "display_name": "Python 3",
   "language": "python",
   "name": "python3"
  },
  "language_info": {
   "codemirror_mode": {
    "name": "ipython",
    "version": 3
   },
   "file_extension": ".py",
   "mimetype": "text/x-python",
   "name": "python",
   "nbconvert_exporter": "python",
   "pygments_lexer": "ipython3",
   "version": "3.10.6"
  }
 },
 "nbformat": 4,
 "nbformat_minor": 5
}
