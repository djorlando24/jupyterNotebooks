{
 "cells": [
  {
   "cell_type": "markdown",
   "id": "e560d5d4",
   "metadata": {},
   "source": [
    "# Image postprocessing of time-resolved cavitation\n",
    "\n",
    "Spectral analysis of cavitating flows from high speed images.\n",
    "    \n",
    "    @author Daniel Duke <daniel.duke@monash.edu>\n",
    "    @copyright (c) 2020 LTRAC\n",
    "    @license GPL-3.0+\n",
    "    @version 0.0.1\n",
    "    @date 16/07/2021\n",
    "        __   ____________    ___    ______\n",
    "       / /  /_  ____ __  \\  /   |  / ____/\n",
    "      / /    / /   / /_/ / / /| | / /\n",
    "     / /___ / /   / _, _/ / ___ |/ /_________\n",
    "    /_____//_/   /_/ |__\\/_/  |_|\\__________/\n",
    "\n",
    "    Laboratory for Turbulence Research in Aerospace & Combustion (LTRAC)\n",
    "    Monash University, Australia\n"
   ]
  },
  {
   "cell_type": "code",
   "execution_count": 1,
   "id": "2c698938",
   "metadata": {},
   "outputs": [],
   "source": [
    "from pySciCam.pySciCam import ImageSequence # https://github.com/djorlando24/pySciCam\n",
    "import numpy as np\n",
    "import glob, sys, os\n",
    "import matplotlib.pyplot as plt\n",
    "from scipy.interpolate import interp2d\n",
    "import scipy.integrate, scipy.signal\n",
    "from joblib import Parallel, delayed\n",
    "%matplotlib notebook"
   ]
  },
  {
   "cell_type": "code",
   "execution_count": 2,
   "id": "1d081bfa",
   "metadata": {},
   "outputs": [],
   "source": [
    "# Define where images come from.\n",
    "source_images = \"/Users/dduke/Downloads/PHO_75_125_4001_CC_BS.tif\"\n",
    "#source_images = \"/Users/dduke/Downloads/PHO_060_250_test5.tif\""
   ]
  },
  {
   "cell_type": "markdown",
   "id": "4dc52eba",
   "metadata": {},
   "source": [
    "## Load images\n",
    "Crop and mask as required."
   ]
  },
  {
   "cell_type": "code",
   "execution_count": null,
   "id": "226c092f",
   "metadata": {},
   "outputs": [
    {
     "name": "stdout",
     "output_type": "stream",
     "text": [
      "Reading /Users/dduke/Downloads/PHO_75_125_4001_CC_BS.tif\n",
      "\tTreating as multipage TIFF - estimated 12139 frames from file size\n",
      "\tPythonMagick thinks the bit depth is <class 'numpy.uint16'>\n",
      "\tReading files into memory...\n",
      "40 tasks on 4 processors\n"
     ]
    },
    {
     "name": "stderr",
     "output_type": "stream",
     "text": [
      "[Parallel(n_jobs=4)]: Using backend LokyBackend with 4 concurrent workers.\n",
      "[Parallel(n_jobs=4)]: Done  10 tasks      | elapsed:  1.6min\n"
     ]
    }
   ],
   "source": [
    "I=ImageSequence(source_images, IO_threads=4, dtype=np.uint16)#, frames=(0,1024))"
   ]
  },
  {
   "cell_type": "code",
   "execution_count": null,
   "id": "c0b9bfe6",
   "metadata": {},
   "outputs": [],
   "source": [
    "# Show some samples\n",
    "fig=plt.figure()\n",
    "plt.suptitle(\"Sample frames\\n\"+os.path.basename(source_images))\n",
    "ax=fig.add_subplot(311)\n",
    "h=ax.imshow(I.arr[0,...],cmap=plt.cm.gray)\n",
    "plt.title(\"Frame 0\")\n",
    "plt.colorbar(h)\n",
    "ax=fig.add_subplot(312)\n",
    "h=ax.imshow(I.arr[int(I.N/2)-1,...],cmap=plt.cm.gray)\n",
    "plt.title(\"Frame %i\" % (int(I.N/2)-1))\n",
    "plt.colorbar(h)\n",
    "ax=fig.add_subplot(313)\n",
    "h=ax.imshow(I.arr[I.N-1,...],cmap=plt.cm.gray)\n",
    "plt.title(\"Frame %i\" % (I.N-1))\n",
    "plt.colorbar(h);"
   ]
  },
  {
   "cell_type": "markdown",
   "id": "d0f9c74f",
   "metadata": {},
   "source": [
    "## Extract a timeseries for analysis\n",
    "Apply limited spatial averaging over a cropped region, with the mean intensity removed."
   ]
  },
  {
   "cell_type": "code",
   "execution_count": null,
   "id": "09b0036a",
   "metadata": {},
   "outputs": [],
   "source": [
    "Ia = I.arr[:,:,0:128].astype(np.float32) # make float for averaging accurately\n",
    "# Average over the wall-normal direction\n",
    "Ia_spatial_avg = np.nanmean(Ia, axis=1)\n",
    "fig=plt.figure()\n",
    "ax=fig.add_subplot(111)\n",
    "ax.plot(np.nanmean(Ia_spatial_avg,axis=-1),lw=1)\n",
    "plt.xlabel('Frame')\n",
    "plt.ylabel('Spatial Average intensity');"
   ]
  },
  {
   "cell_type": "markdown",
   "id": "58d3a6c6",
   "metadata": {},
   "source": [
    "## Apply Welch's Method to the timeseries\n",
    "Given a known sampling rate set below."
   ]
  },
  {
   "cell_type": "code",
   "execution_count": null,
   "id": "e41136b7",
   "metadata": {},
   "outputs": [],
   "source": [
    "from scipy.signal import welch\n",
    "f, Pxx = welch(I.arr[:,:,0:50], fs=80e3,\\\n",
    "               window='hann', nperseg=1024, noverlap=256, nfft=None, detrend='constant',\\\n",
    "               return_onesided=True, scaling='density', axis=0, average='mean')"
   ]
  },
  {
   "cell_type": "markdown",
   "id": "92b664f5",
   "metadata": {},
   "source": [
    "# Spectrum during steady state\n",
    "frameRate = 5e3\n",
    "Ib_steady = Ib[t0:t1,...] # cut out part of time domain\n",
    "Ib_transv = scipy.integrate.trapz(np.nan_to_num(Ib_steady),x=y,axis=1) # integrate in y\n",
    "Ib_F = np.zeros_like(Ib_transv) # make empty array\n",
    "window = np.hanning(Ib_transv.shape[0])/scipy.integrate.trapz(np.hanning(Ib_transv.shape[0]))\n",
    "\n",
    "# Set up function for one fft\n",
    "def onefft(data, window):\n",
    "    d = np.nan_to_num(data) # copy data\n",
    "    d *= window # apply window from above\n",
    "    d = np.hstack((d,np.zeros_like(d))) # zero pad.\n",
    "    d -= np.mean(d) # remove mean\n",
    "    F = np.abs(np.fft.fft(d))[:data.shape[0]] # one half of output.\n",
    "    F /= scipy.integrate.trapz(F) # normalize\n",
    "    F *= np.var(data) # make power spectral density\n",
    "    F[F<=0] = 1e-20 # avoid taking log of zero\n",
    "    return F\n",
    "\n",
    "# Take spectrum over time at each X position\n",
    "for i in range(Ib_F.shape[1]):\n",
    "    Ib_F[:,i] = onefft(Ib_transv[:,i], window)\n",
    "    \n",
    "freq = np.linspace(0,0.5,Ib_F.shape[0])*frameRate # frequency axis\n",
    "Ib_F_xavg = np.mean(Ib_F,axis=1) # average of all X positions.\n",
    "\n",
    "# Take spectrum of the background reference pixel (in case light source was unsteady)\n",
    "Fref = onefft(refp[t0:t1].astype(np.float)/np.nanmax(refp[t0:t1]), window)\n",
    "\n",
    "# Take background spectrum away from the averaged spectrum\n",
    "Ib_F_xavg -= Fref\n",
    "\n",
    "# Plot transv. integrated space-time data\n",
    "fig=plt.figure(figsize=(8,8))\n",
    "ax=fig.add_subplot(311)\n",
    "xx,tt=np.meshgrid(range(Ib_transv.shape[1]),range(Ib_transv.shape[0]))\n",
    "h=ax.pcolormesh(xx,tt,Ib_transv)\n",
    "plt.ylabel('Time [frame]')\n",
    "plt.xlabel('X [px]')\n",
    "plt.colorbar(h)\n",
    "# Plot fft vs X\n",
    "ax=fig.add_subplot(312)\n",
    "xx,ff=np.meshgrid(range(Ib_F.shape[1]),np.log10(freq+1e-6))\n",
    "h=ax.pcolormesh(xx,ff,np.log10(Ib_F),vmin=-2,vmax=np.log10(Ib_F_xavg.max()),cmap=plt.cm.gnuplot)\n",
    "plt.ylim(np.log10(freq[1]),np.log10(freq[-1]))\n",
    "# TODO: Need to make y labels 10^x instead of x...\n",
    "plt.ylabel('Frequency [Hz]')\n",
    "plt.xlabel('X [px]')\n",
    "plt.colorbar(h)\n",
    "# Plot X-averaged FFT.\n",
    "ax=fig.add_subplot(313)\n",
    "ax.loglog(freq,Ib_F_xavg,lw=1,c='k')\n",
    "ax.loglog(freq,Fref,c='b',lw=1)\n",
    "plt.xlabel(r'log$_{10}$(Frequency [Hz])')\n",
    "plt.ylabel(r'PSD [$I^2 \\cdot$ frame]')\n",
    "plt.ylim(Ib_F_xavg[-1]*0.5,np.max(Ib_F_xavg)*2)\n",
    "plt.subplots_adjust(hspace=.5);\n",
    "\n",
    "\n"
   ]
  },
  {
   "cell_type": "code",
   "execution_count": null,
   "id": "c285cc67",
   "metadata": {},
   "outputs": [],
   "source": []
  }
 ],
 "metadata": {
  "kernelspec": {
   "display_name": "Python 3",
   "language": "python",
   "name": "python3"
  },
  "language_info": {
   "codemirror_mode": {
    "name": "ipython",
    "version": 3
   },
   "file_extension": ".py",
   "mimetype": "text/x-python",
   "name": "python",
   "nbconvert_exporter": "python",
   "pygments_lexer": "ipython3",
   "version": "3.9.6"
  }
 },
 "nbformat": 4,
 "nbformat_minor": 5
}
