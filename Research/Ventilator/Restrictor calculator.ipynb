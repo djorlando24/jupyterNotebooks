{
 "cells": [
  {
   "cell_type": "markdown",
   "metadata": {},
   "source": [
    "# Restrictor calculator for Alex Clarke's 3d printed ventilator restrictors\n",
    "\n",
    "Dr Daniel Duke<br>\n",
    "Laboratory for Turbulence Research in Aerospace & Combustion (LTRAC)<br>\n",
    "Department of Mechanical & Aerospace Engineering<br>\n",
    "Monash University<br>\n",
    "\n",
    "30th June 2020"
   ]
  },
  {
   "cell_type": "markdown",
   "metadata": {},
   "source": [
    "This calculator is designed for use with Alex Clarke's 3D printed ventilator restrictor designs, and was determined by empirical least squares fitting to experimental data. It is valid within the following range of parameters:\n",
    "\n",
    "Diameter $D$: 0 - 2 mm<br>\n",
    "Flow Rate $Q$: 0 - 60 L/min<br>\n",
    "Pressure drop $\\Delta P$: 0 - 100 cm H2O<br>"
   ]
  },
  {
   "cell_type": "code",
   "execution_count": 1,
   "metadata": {},
   "outputs": [
    {
     "data": {
      "application/vnd.jupyter.widget-view+json": {
       "model_id": "20a405021b5a49bbb8c92590c845acfa",
       "version_major": 2,
       "version_minor": 0
      },
      "text/plain": [
       "FloatSlider(value=0.0, description='$\\\\Delta P$: cm H$_2$O', max=200.0, step=1.0)"
      ]
     },
     "metadata": {},
     "output_type": "display_data"
    },
    {
     "data": {
      "application/vnd.jupyter.widget-view+json": {
       "model_id": "864d8c9fd80f4745ba2560a8106d77a9",
       "version_major": 2,
       "version_minor": 0
      },
      "text/plain": [
       "FloatSlider(value=0.0, description='$Q$: L/min')"
      ]
     },
     "metadata": {},
     "output_type": "display_data"
    },
    {
     "data": {
      "application/vnd.jupyter.widget-view+json": {
       "model_id": "ccc873b019b44a5584ccbfd6524d9ec8",
       "version_major": 2,
       "version_minor": 0
      },
      "text/plain": [
       "FloatSlider(value=0.0, description='$D$: mm', max=5.0)"
      ]
     },
     "metadata": {},
     "output_type": "display_data"
    },
    {
     "name": "stdout",
     "output_type": "stream",
     "text": [
      "Set the parameter you want to find to zero and click:\n"
     ]
    },
    {
     "data": {
      "application/vnd.jupyter.widget-view+json": {
       "model_id": "58ab030c8b344d25aa62b1566d7d0fb2",
       "version_major": 2,
       "version_minor": 0
      },
      "text/plain": [
       "Button(description='Calculate', style=ButtonStyle())"
      ]
     },
     "metadata": {},
     "output_type": "display_data"
    }
   ],
   "source": [
    "from ipywidgets import widgets\n",
    "from IPython.display import display\n",
    "import numpy as np\n",
    "from scipy.optimize import fsolve\n",
    "import sys\n",
    "\n",
    "dP_input = widgets.FloatSlider(value=0,min=0,max=200,step=1,description=\"$\\Delta P$: cm H$_2$O\")\n",
    "Q_input = widgets.FloatSlider(value=0,min=0,max=100,step=0.1,description=\"$Q$: L/min\")\n",
    "D_input = widgets.FloatSlider(value=0,min=0,max=5,step=0.1,description=\"$D$: mm\")\n",
    "button  = widgets.Button(description=\"Calculate\")\n",
    "\n",
    "def solve_dP(Q,D):\n",
    "    D = np.abs(D) # enforce positive diameter value\n",
    "    return 3.55039*(D**-4.02667)*(Q**2) + 10.2758*(D**-3.46302)*Q\n",
    "\n",
    "def solve_Q(dP,D):\n",
    "    fwrap = lambda q: solve_dP(q,D) - dP\n",
    "    x = fsolve(fwrap, x0=0)\n",
    "    return x\n",
    "\n",
    "def solve_D(dP,Q):\n",
    "    fwrap = lambda q: solve_dP(Q,q) - dP\n",
    "    x = fsolve(fwrap, x0=2.0) # start with nonzero estimate\n",
    "    return x\n",
    "\n",
    "def run_calculation(b):\n",
    "    dP, Q, D = dP_input.value, Q_input.value, D_input.value\n",
    "    \n",
    "    # Solve for pressure drop\n",
    "    if (dP==0) and (Q!=0) and (D!=0):\n",
    "        dP_out = solve_dP(Q,D)\n",
    "        print(\"Q = %0.2f L/min, D = %0.2f mm:  Pressure drop = %0.2f cm H2O\" % (Q,D,dP_out))\n",
    "        dP_input.value = dP_out\n",
    "        \n",
    "    # Solve for flow rate\n",
    "    elif (dP!=0) and (Q==0) and (D!=0):\n",
    "        Q_out = solve_Q(dP,D)\n",
    "        print(\"dP = %0.2f cm H2O, D = %0.2f mm:  Flow rate = %0.2f L/min\" % (dP,D,Q_out))\n",
    "        Q_input.value = Q_out\n",
    "    \n",
    "    # Solve for diameter\n",
    "    elif (dP!=0) and (Q!=0) and (D==0):\n",
    "        D_out = solve_D(dP,Q)\n",
    "        print(\"dP = %0.2f cm H2O, Q = %0.2f L/min:  Restrictor diameter = %0.2f mm\" % (dP,Q,D_out))\n",
    "        D_input.value = D_out\n",
    "        \n",
    "    else:\n",
    "        print(\"Cannot solve - please set one value to be zero.\")\n",
    "    \n",
    "    return\n",
    "        \n",
    "button.on_click(run_calculation)\n",
    "\n",
    "display(dP_input)\n",
    "display(Q_input)\n",
    "display(D_input)\n",
    "print(\"Set the parameter you want to find to zero and click:\")\n",
    "display(button);"
   ]
  }
 ],
 "metadata": {
  "kernelspec": {
   "display_name": "Python 3",
   "language": "python",
   "name": "python3"
  },
  "language_info": {
   "codemirror_mode": {
    "name": "ipython",
    "version": 3
   },
   "file_extension": ".py",
   "mimetype": "text/x-python",
   "name": "python",
   "nbconvert_exporter": "python",
   "pygments_lexer": "ipython3",
   "version": "3.8.5"
  }
 },
 "nbformat": 4,
 "nbformat_minor": 4
}
